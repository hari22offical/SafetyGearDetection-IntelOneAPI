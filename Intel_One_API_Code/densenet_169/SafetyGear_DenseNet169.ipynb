{
 "cells": [
  {
   "cell_type": "markdown",
   "id": "4a709804-ed0a-494e-9ba4-43450d26f081",
   "metadata": {},
   "source": [
    "<font color=purple><h1>**Safety Gear Monitoring System for Construction Workers**</h1></font>"
   ]
  },
  {
   "cell_type": "markdown",
   "id": "6bd5054f-a101-4f99-be7e-c3328f6a7d09",
   "metadata": {},
   "source": [
    "<font color=Zircon><h4>**IMPORTING DEPENDENCIES**</h4></font>"
   ]
  },
  {
   "cell_type": "code",
   "execution_count": 1,
   "id": "791dfdac-c699-4490-a521-6e45e0394973",
   "metadata": {},
   "outputs": [
    {
     "name": "stderr",
     "output_type": "stream",
     "text": [
      "Intel(R) Extension for Scikit-learn* enabled (https://github.com/intel/scikit-learn-intelex)\n"
     ]
    }
   ],
   "source": [
    "import pandas as pd\n",
    "import numpy as np\n",
    "from sklearn.metrics import accuracy_score,confusion_matrix"
   ]
  },
  {
   "cell_type": "code",
   "execution_count": 2,
   "id": "539304da-63bc-4702-b3ba-56a5cb7a375e",
   "metadata": {},
   "outputs": [
    {
     "name": "stderr",
     "output_type": "stream",
     "text": [
      "2023-04-24 21:38:39.793115: I tensorflow/tsl/cuda/cudart_stub.cc:28] Could not find cuda drivers on your machine, GPU will not be used.\n",
      "2023-04-24 21:38:39.871927: I tensorflow/tsl/cuda/cudart_stub.cc:28] Could not find cuda drivers on your machine, GPU will not be used.\n",
      "2023-04-24 21:38:39.875224: I tensorflow/core/platform/cpu_feature_guard.cc:182] This TensorFlow binary is optimized to use available CPU instructions in performance-critical operations.\n",
      "To enable the following instructions: AVX2 AVX512F FMA, in other operations, rebuild TensorFlow with the appropriate compiler flags.\n",
      "2023-04-24 21:38:45.035766: W tensorflow/compiler/tf2tensorrt/utils/py_utils.cc:38] TF-TRT Warning: Could not find TensorRT\n"
     ]
    }
   ],
   "source": [
    "import tensorflow as tf\n",
    "from tensorflow.keras.layers import Dense, GlobalAveragePooling2D\n",
    "from tensorflow.keras.models import Model\n",
    "from tensorflow.keras.optimizers import Adam\n",
    "from tensorflow.keras.preprocessing.image import ImageDataGenerator\n",
    "from tensorflow.keras.preprocessing import image"
   ]
  },
  {
   "cell_type": "markdown",
   "id": "5d5d9f65-b536-4e0d-b3d1-ce363ab9b751",
   "metadata": {},
   "source": [
    "<font color=Zircon><h4>**DATA GENERATOR**</h4></font>"
   ]
  },
  {
   "cell_type": "code",
   "execution_count": 3,
   "id": "24302af3-2dc2-47fa-bda1-f1fe12ffa086",
   "metadata": {},
   "outputs": [
    {
     "name": "stdout",
     "output_type": "stream",
     "text": [
      "Found 4091 validated image filenames belonging to 5 classes.\n"
     ]
    }
   ],
   "source": [
    "# Set up the data generators\n",
    "train_datagen = ImageDataGenerator(\n",
    "    rescale=1./255,\n",
    "    shear_range=0.2,\n",
    "    zoom_range=0.2,\n",
    "    horizontal_flip=True)\n",
    "\n",
    "train_labels = pd.read_csv('normal_train/_annotations.csv')\n",
    "# Convert the column to strings\n",
    "train_labels['class'] = train_labels['class'].astype(str)\n",
    "train_generator = train_datagen.flow_from_dataframe(\n",
    "    train_labels,\n",
    "    directory='normal_train',\n",
    "    x_col='filename',\n",
    "    y_col='class',\n",
    "    target_size=(224, 224),\n",
    "    batch_size=32,\n",
    "    class_mode='categorical')\n"
   ]
  },
  {
   "cell_type": "markdown",
   "id": "4da34756-7ee1-40cd-80b3-b0144f73588c",
   "metadata": {},
   "source": [
    "<font color=Zircon><h4>**TRAINING THE MODEL**</h4></font>"
   ]
  },
  {
   "cell_type": "code",
   "execution_count": 4,
   "id": "9f97f08c-3020-4254-8d37-8a53adaec96a",
   "metadata": {
    "tags": []
   },
   "outputs": [
    {
     "name": "stdout",
     "output_type": "stream",
     "text": [
      "Epoch 1/20\n"
     ]
    },
    {
     "name": "stderr",
     "output_type": "stream",
     "text": [
      "2023-04-24 21:39:42.115995: I tensorflow/core/common_runtime/executor.cc:1197] [/device:CPU:0] (DEBUG INFO) Executor start aborting (this does not indicate an error and you can ignore this message): INVALID_ARGUMENT: You must feed a value for placeholder tensor 'Placeholder/_0' with dtype int32\n",
      "\t [[{{node Placeholder/_0}}]]\n"
     ]
    },
    {
     "name": "stdout",
     "output_type": "stream",
     "text": [
      "127/127 [==============================] - 314s 2s/step - loss: 0.5103 - accuracy: 0.7991\n",
      "Epoch 2/20\n",
      "127/127 [==============================] - 288s 2s/step - loss: 0.5028 - accuracy: 0.8000\n",
      "Epoch 3/20\n",
      "127/127 [==============================] - 296s 2s/step - loss: 0.5022 - accuracy: 0.8000\n",
      "Epoch 4/20\n",
      "127/127 [==============================] - 312s 2s/step - loss: 0.5019 - accuracy: 0.8000\n",
      "Epoch 5/20\n",
      "127/127 [==============================] - 282s 2s/step - loss: 0.5016 - accuracy: 0.8000\n",
      "Epoch 6/20\n",
      "127/127 [==============================] - 312s 2s/step - loss: 0.5014 - accuracy: 0.8000\n",
      "Epoch 7/20\n",
      "127/127 [==============================] - 290s 2s/step - loss: 0.5014 - accuracy: 0.8000\n",
      "Epoch 8/20\n",
      "127/127 [==============================] - 280s 2s/step - loss: 0.5013 - accuracy: 0.8000\n",
      "Epoch 9/20\n",
      "127/127 [==============================] - 286s 2s/step - loss: 0.5012 - accuracy: 0.8000\n",
      "Epoch 10/20\n",
      "127/127 [==============================] - 259s 2s/step - loss: 0.5011 - accuracy: 0.8000\n",
      "Epoch 11/20\n",
      "127/127 [==============================] - 310s 2s/step - loss: 0.5010 - accuracy: 0.8000\n",
      "Epoch 12/20\n",
      "127/127 [==============================] - 312s 2s/step - loss: 0.5010 - accuracy: 0.8000\n",
      "Epoch 13/20\n",
      "127/127 [==============================] - 281s 2s/step - loss: 0.5010 - accuracy: 0.8000\n",
      "Epoch 14/20\n",
      "127/127 [==============================] - 311s 2s/step - loss: 0.5009 - accuracy: 0.8000\n",
      "Epoch 15/20\n",
      "127/127 [==============================] - 199s 2s/step - loss: 0.5010 - accuracy: 0.8000\n",
      "Epoch 16/20\n",
      "127/127 [==============================] - 154s 1s/step - loss: 0.5009 - accuracy: 0.8000\n",
      "Epoch 17/20\n",
      "127/127 [==============================] - 154s 1s/step - loss: 0.5009 - accuracy: 0.8000\n",
      "Epoch 18/20\n",
      "127/127 [==============================] - 154s 1s/step - loss: 0.5008 - accuracy: 0.8000\n",
      "Epoch 19/20\n",
      "127/127 [==============================] - 152s 1s/step - loss: 0.5009 - accuracy: 0.8000\n",
      "Epoch 20/20\n",
      "127/127 [==============================] - 153s 1s/step - loss: 0.5008 - accuracy: 0.8000\n"
     ]
    },
    {
     "data": {
      "text/plain": [
       "<keras.callbacks.History at 0x7f02582d5700>"
      ]
     },
     "execution_count": 4,
     "metadata": {},
     "output_type": "execute_result"
    }
   ],
   "source": [
    "# Load the pre-trained DenseNet-169 model and freeze the base layers\n",
    "base_model = tf.keras.applications.DenseNet169(\n",
    "    include_top=False, weights='imagenet', input_shape=(224, 224, 3))\n",
    "for layer in base_model.layers:\n",
    "    layer.trainable = False\n",
    "\n",
    "# Add new fully connected layers on top of the base model\n",
    "x = base_model.output\n",
    "x = GlobalAveragePooling2D()(x)\n",
    "x = Dense(1024, activation='relu')(x)\n",
    "predictions = Dense(1, activation='sigmoid')(x)\n",
    "\n",
    "# Compile the model with binary cross-entropy loss and Adam optimizer\n",
    "model = Model(inputs=base_model.input, outputs=predictions)\n",
    "\n",
    "#freeze Layers\n",
    "for layer in base_model.layers:\n",
    "    layer.trainable = False\n",
    "\n",
    "model.compile(optimizer=Adam(learning_rate=0.0001), loss='binary_crossentropy',\n",
    "              metrics=['accuracy'])\n",
    "\n",
    "# Train the model\n",
    "model.fit(\n",
    "    train_generator,\n",
    "    steps_per_epoch=train_generator.samples // train_generator.batch_size,\n",
    "    epochs=20)"
   ]
  },
  {
   "cell_type": "markdown",
   "id": "2a371fca-39cc-4e6b-836d-4bb2294bba01",
   "metadata": {},
   "source": [
    "<font color=Zircon><h4>**TESTING THE MODEL**</h4></font>"
   ]
  },
  {
   "cell_type": "code",
   "execution_count": 5,
   "id": "c16e41c7-880f-4ae5-b9b1-b7ceec3dcad7",
   "metadata": {},
   "outputs": [],
   "source": [
    "t_test_df = pd.read_csv(\"normal_test/_annotations.csv\")"
   ]
  },
  {
   "cell_type": "code",
   "execution_count": 6,
   "id": "05e0c316-9ddb-48b4-a4d2-c9b0c5feee38",
   "metadata": {},
   "outputs": [
    {
     "name": "stdout",
     "output_type": "stream",
     "text": [
      "Found 958 validated image filenames.\n"
     ]
    },
    {
     "name": "stderr",
     "output_type": "stream",
     "text": [
      "/home/u190421/tmp/ipykernel_1476257/1578501580.py:14: UserWarning: `Model.predict_generator` is deprecated and will be removed in a future version. Please use `Model.predict`, which supports generators.\n",
      "  preds = model.predict_generator(t_test_generator, steps=None)\n",
      "2023-04-24 23:07:28.567906: I tensorflow/core/common_runtime/executor.cc:1197] [/device:CPU:0] (DEBUG INFO) Executor start aborting (this does not indicate an error and you can ignore this message): INVALID_ARGUMENT: You must feed a value for placeholder tensor 'Placeholder/_0' with dtype int32\n",
      "\t [[{{node Placeholder/_0}}]]\n"
     ]
    }
   ],
   "source": [
    "# Create a generator for the test images\n",
    "t_test_datagen = ImageDataGenerator(rescale=1./255)\n",
    "t_test_generator = t_test_datagen.flow_from_dataframe(\n",
    "    t_test_df,\n",
    "    directory=\"normal_test\",\n",
    "    x_col='filename',\n",
    "    y_col=None,\n",
    "    target_size=(224, 224),\n",
    "    batch_size=32,\n",
    "    class_mode=None,\n",
    "    shuffle=False)\n",
    "\n",
    "# Use the trained model to make predictions on the test data\n",
    "preds = model.predict_generator(t_test_generator, steps=None)\n",
    "# Remove any missing filenames from the test CSV file\n",
    "missing_filenames = set(t_test_generator.filenames) - set(t_test_df['filename'])\n",
    "if missing_filenames:\n",
    "    print(f'Removing {len(missing_filenames)} missing filenames from the test CSV file.')\n",
    "    t_test_df = t_test_df[~t_test_df['filename'].isin(missing_filenames)]"
   ]
  },
  {
   "cell_type": "code",
   "execution_count": 7,
   "id": "6644cb58-a55d-47aa-a551-e466ba44a44d",
   "metadata": {},
   "outputs": [],
   "source": [
    "li = []\n",
    "for i in preds.ravel():\n",
    "    if i>0.5:\n",
    "        li.append(1)\n",
    "    else:\n",
    "        li.append(0)\n",
    "     \n",
    "# Create a DataFrame with the filenames and predictions\n",
    "df = pd.DataFrame({'filename': t_test_generator.filenames[:len(preds)], 'class': li})\n",
    "\n",
    "test_inst_df=pd.merge(df, t_test_df, on='filename', how='inner')"
   ]
  },
  {
   "cell_type": "markdown",
   "id": "58a4737f-3f6d-4312-b918-655c22215677",
   "metadata": {},
   "source": [
    "<font color=Zircon><h4>**SAVING THE MODEL**</h4></font>"
   ]
  },
  {
   "cell_type": "code",
   "execution_count": 8,
   "id": "4e75c8be-6324-49ca-887e-a92505c3acd3",
   "metadata": {},
   "outputs": [],
   "source": [
    "# Save the model\n",
    "model.save('final_models_densenet/densenet.h5')"
   ]
  },
  {
   "cell_type": "code",
   "execution_count": null,
   "id": "5da33363-38f0-4f52-a5b8-26d23b3efc38",
   "metadata": {},
   "outputs": [],
   "source": []
  }
 ],
 "metadata": {
  "kernelspec": {
   "display_name": "Python 3 (Intel® oneAPI 2023.0)",
   "language": "python",
   "name": "c009-intel_distribution_of_python_3_oneapi-beta05-python"
  },
  "language_info": {
   "codemirror_mode": {
    "name": "ipython",
    "version": 3
   },
   "file_extension": ".py",
   "mimetype": "text/x-python",
   "name": "python",
   "nbconvert_exporter": "python",
   "pygments_lexer": "ipython3",
   "version": "3.9.15"
  }
 },
 "nbformat": 4,
 "nbformat_minor": 5
}
