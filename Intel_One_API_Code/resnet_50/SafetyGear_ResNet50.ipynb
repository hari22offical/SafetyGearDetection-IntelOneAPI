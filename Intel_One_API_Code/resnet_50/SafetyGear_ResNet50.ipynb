{
 "cells": [
  {
   "cell_type": "markdown",
   "id": "569bc631-9015-417a-beae-69e0c1286635",
   "metadata": {},
   "source": [
    "<font color=purple><h1>**Safety Gear Monitoring System for Construction Workers**</h1></font>"
   ]
  },
  {
   "cell_type": "markdown",
   "id": "9f15b479-47e8-476e-b94f-0547db4d2eb9",
   "metadata": {},
   "source": [
    "<font color=Zircon><h4>**IMPORT DEPENDENCIES**</h4></font>"
   ]
  },
  {
   "cell_type": "code",
   "execution_count": 5,
   "id": "7b19e6ee-c810-4e44-bd03-a1f3a0afef19",
   "metadata": {},
   "outputs": [],
   "source": [
    "import pandas as pd\n",
    "import numpy as np\n",
    "from sklearn.metrics import accuracy_score,confusion_matrix\n"
   ]
  },
  {
   "cell_type": "code",
   "execution_count": 6,
   "id": "a2c38301-ea85-41a7-a53d-b1f97874d719",
   "metadata": {},
   "outputs": [],
   "source": [
    "import tensorflow as tf\n",
    "from tensorflow.keras.layers import Dense, GlobalAveragePooling2D\n",
    "from tensorflow.keras.models import Model\n",
    "from tensorflow.keras.optimizers import Adam\n",
    "from tensorflow.keras.preprocessing.image import ImageDataGenerator\n",
    "from tensorflow.keras.preprocessing import image"
   ]
  },
  {
   "cell_type": "markdown",
   "id": "67d88400-19b6-4c47-bc53-c4e0ad4f1ffb",
   "metadata": {},
   "source": [
    "<font color=Zircon><h4>**DATA GENERATOR**</h4></font>"
   ]
  },
  {
   "cell_type": "code",
   "execution_count": 7,
   "id": "c64ed1a8-493d-49c6-a0b7-ba7cd7241f82",
   "metadata": {},
   "outputs": [
    {
     "name": "stdout",
     "output_type": "stream",
     "text": [
      "Found 4091 validated image filenames belonging to 5 classes.\n"
     ]
    }
   ],
   "source": [
    "# Set up the data generators\n",
    "train_datagen = ImageDataGenerator(\n",
    "    rescale=1./255,\n",
    "    shear_range=0.2,\n",
    "    zoom_range=0.2,\n",
    "    horizontal_flip=True)\n",
    "\n",
    "train_labels = pd.read_csv('normal_train/_annotations.csv')\n",
    "# Convert the column to strings\n",
    "train_labels['class'] = train_labels['class'].astype(str)\n",
    "train_generator = train_datagen.flow_from_dataframe(\n",
    "    train_labels,\n",
    "    directory='normal_train',\n",
    "    x_col='filename',\n",
    "    y_col='class',\n",
    "    target_size=(224, 224),\n",
    "    batch_size=32,\n",
    "    class_mode='categorical')"
   ]
  },
  {
   "cell_type": "code",
   "execution_count": 8,
   "id": "fe6199af-ef8b-46f1-ac8e-aaed2564f23a",
   "metadata": {},
   "outputs": [],
   "source": [
    "import tensorflow as tf\n",
    "\n",
    "def smooth_l1(y_true, y_pred):\n",
    "    diff = tf.abs(y_true - y_pred)\n",
    "    less_than_one = tf.cast(tf.less(diff, 1.0), \"float32\")\n",
    "    l1_loss = (less_than_one * 0.5 * diff ** 2) + (1 - less_than_one) * (diff - 0.5)\n",
    "    return tf.reduce_mean(l1_loss)"
   ]
  },
  {
   "cell_type": "markdown",
   "id": "2d6e15df-9244-42c5-8bb0-1b881dfa566a",
   "metadata": {},
   "source": [
    "<font color=Zircon><h4>**TRAINING THE MODEL**</h4></font>"
   ]
  },
  {
   "cell_type": "code",
   "execution_count": 9,
   "id": "c7b97487-0dc2-4b91-9cdd-bb7ba52ae795",
   "metadata": {},
   "outputs": [
    {
     "name": "stderr",
     "output_type": "stream",
     "text": [
      "2023-04-24 21:33:44.442267: I tensorflow/core/common_runtime/executor.cc:1197] [/device:CPU:0] (DEBUG INFO) Executor start aborting (this does not indicate an error and you can ignore this message): INVALID_ARGUMENT: You must feed a value for placeholder tensor 'Placeholder/_0' with dtype int32\n",
      "\t [[{{node Placeholder/_0}}]]\n"
     ]
    },
    {
     "name": "stdout",
     "output_type": "stream",
     "text": [
      "Epoch 1/20\n",
      "127/127 [==============================] - 151s 1s/step - loss: 0.0842 - accuracy: 0.8000\n",
      "Epoch 2/20\n",
      "127/127 [==============================] - 143s 1s/step - loss: 0.0802 - accuracy: 0.8000\n",
      "Epoch 3/20\n",
      "127/127 [==============================] - 191s 1s/step - loss: 0.0802 - accuracy: 0.8000\n",
      "Epoch 4/20\n",
      "127/127 [==============================] - 236s 2s/step - loss: 0.0802 - accuracy: 0.8000\n",
      "Epoch 5/20\n",
      "127/127 [==============================] - 235s 2s/step - loss: 0.0802 - accuracy: 0.8000\n",
      "Epoch 6/20\n",
      "127/127 [==============================] - 241s 2s/step - loss: 0.0802 - accuracy: 0.8000\n",
      "Epoch 7/20\n",
      "127/127 [==============================] - 236s 2s/step - loss: 0.0802 - accuracy: 0.8000\n",
      "Epoch 8/20\n",
      "127/127 [==============================] - 230s 2s/step - loss: 0.0802 - accuracy: 0.8000\n",
      "Epoch 9/20\n",
      "127/127 [==============================] - 235s 2s/step - loss: 0.0802 - accuracy: 0.8000\n",
      "Epoch 10/20\n",
      "127/127 [==============================] - 228s 2s/step - loss: 0.0802 - accuracy: 0.8000\n",
      "Epoch 11/20\n",
      "127/127 [==============================] - 234s 2s/step - loss: 0.0802 - accuracy: 0.8000\n",
      "Epoch 12/20\n",
      "127/127 [==============================] - 235s 2s/step - loss: 0.0802 - accuracy: 0.8000\n",
      "Epoch 13/20\n",
      "127/127 [==============================] - 237s 2s/step - loss: 0.0802 - accuracy: 0.8000\n",
      "Epoch 14/20\n",
      "127/127 [==============================] - 212s 2s/step - loss: 0.0802 - accuracy: 0.8000\n",
      "Epoch 15/20\n",
      "127/127 [==============================] - 235s 2s/step - loss: 0.0802 - accuracy: 0.8000\n",
      "Epoch 16/20\n",
      "127/127 [==============================] - 236s 2s/step - loss: 0.0802 - accuracy: 0.8000\n",
      "Epoch 17/20\n",
      "127/127 [==============================] - 235s 2s/step - loss: 0.0802 - accuracy: 0.8000\n",
      "Epoch 18/20\n",
      "127/127 [==============================] - 235s 2s/step - loss: 0.0802 - accuracy: 0.8000\n",
      "Epoch 19/20\n",
      "127/127 [==============================] - 209s 2s/step - loss: 0.0802 - accuracy: 0.8000\n",
      "Epoch 20/20\n",
      "127/127 [==============================] - 235s 2s/step - loss: 0.0802 - accuracy: 0.8000\n"
     ]
    },
    {
     "data": {
      "text/plain": [
       "<keras.callbacks.History at 0x7f5fc07a9040>"
      ]
     },
     "execution_count": 9,
     "metadata": {},
     "output_type": "execute_result"
    }
   ],
   "source": [
    "# Load the pre-trained ResNet-50 model and freeze the base layers\n",
    "base_model = tf.keras.applications.ResNet50(\n",
    "    include_top=False, weights='imagenet', input_shape=(224, 224, 3))\n",
    "\n",
    "for layer in base_model.layers:\n",
    "    layer.trainable = False\n",
    "\n",
    "# Add new fully connected layers on top of the base model\n",
    "x = base_model.output\n",
    "x = GlobalAveragePooling2D()(x)\n",
    "x = Dense(1024, activation='relu')(x)\n",
    "predictions = Dense(1, activation='sigmoid')(x)\n",
    "\n",
    "# Compile the model with binary cross-entropy loss and Adam optimizer\n",
    "model = Model(inputs=base_model.input, outputs=predictions)\n",
    "\n",
    "#freeze Layers\n",
    "for layer in base_model.layers:\n",
    "    layer.trainable = False\n",
    "\n",
    "EPOCHS = 1\n",
    "INIT_LR = 1e-1\n",
    "BS = 128\n",
    "from tensorflow.keras.optimizers.experimental import SGD\n",
    "opt = SGD(learning_rate=INIT_LR, weight_decay=INIT_LR / EPOCHS)\n",
    "\n",
    "\n",
    "model.compile(optimizer=opt, loss=smooth_l1,\n",
    "              metrics=['accuracy'])\n",
    "\n",
    "# Train the model\n",
    "model.fit(\n",
    "    train_generator,\n",
    "    steps_per_epoch=train_generator.samples // train_generator.batch_size,\n",
    "    epochs=20)"
   ]
  },
  {
   "cell_type": "markdown",
   "id": "023e4800-0b4c-45b3-af3d-57e960c5db0b",
   "metadata": {},
   "source": [
    "+++++++<font color=Zircon><h4>**TESTING THE MODEL**</h4></font>"
   ]
  },
  {
   "cell_type": "code",
   "execution_count": 10,
   "id": "60ba8067-b8eb-4385-a97f-11fe7cd043e4",
   "metadata": {},
   "outputs": [],
   "source": [
    "# Load the test CSV file with filenames\n",
    "t_test_df = pd.read_csv('normal_test/_annotations.csv')"
   ]
  },
  {
   "cell_type": "code",
   "execution_count": 11,
   "id": "96d406c6-1031-4e41-a1d2-eac7adf30c3d",
   "metadata": {},
   "outputs": [
    {
     "name": "stdout",
     "output_type": "stream",
     "text": [
      "Found 958 validated image filenames.\n"
     ]
    },
    {
     "name": "stderr",
     "output_type": "stream",
     "text": [
      "/home/u190421/tmp/ipykernel_1472226/1578501580.py:14: UserWarning: `Model.predict_generator` is deprecated and will be removed in a future version. Please use `Model.predict`, which supports generators.\n",
      "  preds = model.predict_generator(t_test_generator, steps=None)\n",
      "2023-04-24 23:06:39.475318: I tensorflow/core/common_runtime/executor.cc:1197] [/device:CPU:0] (DEBUG INFO) Executor start aborting (this does not indicate an error and you can ignore this message): INVALID_ARGUMENT: You must feed a value for placeholder tensor 'Placeholder/_0' with dtype int32\n",
      "\t [[{{node Placeholder/_0}}]]\n"
     ]
    }
   ],
   "source": [
    "# Create a generator for the test images\n",
    "t_test_datagen = ImageDataGenerator(rescale=1./255)\n",
    "t_test_generator = t_test_datagen.flow_from_dataframe(\n",
    "    t_test_df,\n",
    "    directory=\"normal_test\",\n",
    "    x_col='filename',\n",
    "    y_col=None,\n",
    "    target_size=(224, 224),\n",
    "    batch_size=32,\n",
    "    class_mode=None,\n",
    "    shuffle=False)\n",
    "\n",
    "# Use the trained model to make predictions on the test data\n",
    "preds = model.predict_generator(t_test_generator, steps=None)\n",
    "# Remove any missing filenames from the test CSV file\n",
    "missing_filenames = set(t_test_generator.filenames) - set(t_test_df['filename'])\n",
    "if missing_filenames:\n",
    "    print(f'Removing {len(missing_filenames)} missing filenames from the test CSV file.')\n",
    "    t_test_df = t_test_df[~t_test_df['filename'].isin(missing_filenames)]"
   ]
  },
  {
   "cell_type": "code",
   "execution_count": 12,
   "id": "8103e6ec-217b-4119-af15-2c46bfea2553",
   "metadata": {},
   "outputs": [],
   "source": [
    "li = []\n",
    "for i in preds.ravel():\n",
    "    if i>0.5:\n",
    "        li.append(1)\n",
    "    else:\n",
    "        li.append(0)\n",
    "     \n",
    "# Create a DataFrame with the filenames and predictions\n",
    "df = pd.DataFrame({'filename': t_test_generator.filenames[:len(preds)], 'class': li})\n",
    "\n",
    "test_inst_df=pd.merge(df, t_test_df, on='filename', how='inner')"
   ]
  },
  {
   "cell_type": "markdown",
   "id": "2d09ada3-3549-427d-9d9b-76f3eb112a3c",
   "metadata": {},
   "source": [
    "<font color=Zircon><h4>**SAVING THE MODEL**</h4></font>"
   ]
  },
  {
   "cell_type": "code",
   "execution_count": 14,
   "id": "5c47b282-46be-482f-aac2-05a2643ef7a3",
   "metadata": {},
   "outputs": [],
   "source": [
    "model.save('final_gear_resnet/resnet.h5')"
   ]
  },
  {
   "cell_type": "code",
   "execution_count": null,
   "id": "1c888a47-293e-4c72-a747-2d952ac45130",
   "metadata": {},
   "outputs": [],
   "source": []
  }
 ],
 "metadata": {
  "kernelspec": {
   "display_name": "Python 3 (Intel® oneAPI 2023.0)",
   "language": "python",
   "name": "c009-intel_distribution_of_python_3_oneapi-beta05-python"
  },
  "language_info": {
   "codemirror_mode": {
    "name": "ipython",
    "version": 3
   },
   "file_extension": ".py",
   "mimetype": "text/x-python",
   "name": "python",
   "nbconvert_exporter": "python",
   "pygments_lexer": "ipython3",
   "version": "3.9.15"
  }
 },
 "nbformat": 4,
 "nbformat_minor": 5
}
